{
 "cells": [
  {
   "cell_type": "markdown",
   "metadata": {},
   "source": [
    "# Mean Soil Adjusted Vegetation Index 2 Calculation"
   ]
  },
  {
   "cell_type": "markdown",
   "metadata": {},
   "source": [
    "The modified soil-adjusted vegetation index (MSAVI) and its later revision, MSAVI2, are soil adjusted vegetation indices that seek to address some of the limitation of NDVI when applied to areas with a high degree of exposed soil surface. The problem with the original soil-adjusted vegetation index (SAVI) is that it required specifying the soil-brightness correction factor (L) through trial-and-error based on the amount of vegetation in the study area. Not only did this lead to the majority of people just using the default L value of 0.5, but it also created a circular logic problem of needing to know what the vegetation amount/cover was before you could apply SAVI which was supposed to give you information on how much vegetation there was developed the MSAVI, and later the MSAVI2 to more reliably and simply calculate a soil brightness correction factor.\n",
    "\n",
    "MSAVI2 = (2 * NIR + 1 – sqrt ((2 * NIR + 1)2 – 8 * (NIR - R))) / 2\n",
    "\n",
    "Here we have used Sentinel-2 data. It is a wide-swath, high-resolution, multi-spectral imaging mission supporting Copernicus Land Monitoring studies, including the monitoring of vegetation, soil and water cover, as well as observation of inland waterways and coastal areas. Band 8 and Band 4 used and NIR and RED bands respectively along with QA60 band for cloud masking. Required MSAVI2 formula for Sentinel-2 will be:\n",
    "MSAVI = (2 * Band 8 + 1 – sqrt ((2 * Band 8 + 1)2 – 8 * (Band 8 – Band 4))) / 2.\n",
    "\n",
    "'geometry1' is the place 'Lakha' from Punjab. We can see the decrease in MSAVI 2 values from month of January to June. This could be possible because of wheat crop cultivation in initial months and harvesting in later. 'geometry2' is the place from Bihar where also we can se similar trends. 'geometry3' is Malkajgiri, Telangana area where we can observe different trend as compared to previous to regions. Here, MSAVI2 vsalues are kind of constant on linear curve fitting scale.\n",
    "\n",
    "Results and time series graphs with detailed code is shown below:"
   ]
  },
  {
   "cell_type": "markdown",
   "metadata": {},
   "source": [
    "We need to add ee python library to access earth engine in python and ipygee to plot graphs from the output values"
   ]
  },
  {
   "cell_type": "code",
   "execution_count": 1,
   "metadata": {},
   "outputs": [],
   "source": [
    "from ipygee import *\n",
    "\n",
    "import ee\n",
    "ee.Initialize() #To initialize google earth engine servers in our program"
   ]
  },
  {
   "cell_type": "markdown",
   "metadata": {},
   "source": [
    "Here we are creating polygon for the given 3 places."
   ]
  },
  {
   "cell_type": "code",
   "execution_count": 2,
   "metadata": {},
   "outputs": [],
   "source": [
    "geometry1 = ee.Geometry.Polygon(\n",
    "        [[[75.45157492160797, 30.634404129904425],\n",
    "          [75.4524278640747, 30.63372099804389],\n",
    "          [75.45236885547638, 30.634399514164798],\n",
    "          [75.45157492160797, 30.634404129904425]]])\n",
    "geometry2 = ee.Geometry.Polygon(\n",
    "        [[[85.85622847080823, 26.09425078918021],\n",
    "          [85.8559066057052, 26.093581136401006],\n",
    "          [85.8568647212981, 26.094009907326967],\n",
    "          [85.85622847080823, 26.09425078918021]]])\n",
    "geometry3 = ee.Geometry.Polygon(\n",
    "        [[[78.66571158170699, 17.66869116558751],\n",
    "          [78.6662346124649, 17.6686911655875],\n",
    "          [78.6662346124649, 17.66929686130703],\n",
    "          [78.66571158170699, 17.66869116558751]]])"
   ]
  },
  {
   "attachments": {},
   "cell_type": "markdown",
   "metadata": {},
   "source": [
    "Function for the MSAVI 2 calculation has been created in next step"
   ]
  },
  {
   "cell_type": "code",
   "execution_count": 3,
   "metadata": {},
   "outputs": [],
   "source": [
    "def addmsavi2(image):\n",
    "    msavi2 = image.expression(\n",
    "      '(2 * NIR + 1 - sqrt(pow((2 * NIR + 1), 2) - 8 * (NIR - RED)) ) / 2',\n",
    "      {\n",
    "        'NIR': image.select('B8'),\n",
    "        'RED': image.select('B4')\n",
    "      }\n",
    "    )\n",
    "    return image.addBands(msavi2.rename('msavi2'))  #adding all the image as a seperate band in the data set\n"
   ]
  },
  {
   "cell_type": "markdown",
   "metadata": {},
   "source": [
    "Function to remove opaque clouds and cirrus clouds\n",
    "\n",
    "QA60 is band for cloud mask\n",
    "\n",
    "Bitmask for QA60:\n",
    "    Bit 10: Opaque clouds\n",
    "        0: No opaque clouds\n",
    "        1: Opaque clouds present\n",
    "    Bit 11: Cirrus clouds\n",
    "        0: No cirrus clouds\n",
    "        1: Cirrus clouds present"
   ]
  },
  {
   "cell_type": "code",
   "execution_count": 4,
   "metadata": {},
   "outputs": [],
   "source": [
    "def maskcloud1(image):\n",
    "    QA60 = image.select(['QA60'])\n",
    "    return image.updateMask(QA60.lt(1))   #both bit 10's and 11's cloud present is removed\n"
   ]
  },
  {
   "cell_type": "markdown",
   "metadata": {},
   "source": [
    "We will import satellite image collection from Jan 2020 to June 2020, filter area as per given geometry. After that cloud masking and adding MSAVI 2 layer added."
   ]
  },
  {
   "cell_type": "code",
   "execution_count": 5,
   "metadata": {},
   "outputs": [],
   "source": [
    "S2 = ee.ImageCollection(\"COPERNICUS/S2\").filterDate('2020-01-01', '2020-06-30').filterBounds(geometry1)\n",
    "\n",
    "S2 = S2.map(maskcloud1)    \n",
    "\n",
    "S2 = S2.map(addmsavi2)"
   ]
  },
  {
   "cell_type": "markdown",
   "metadata": {},
   "source": [
    "Creating time series chart using ipygee library of python by msavi band data which has been created before"
   ]
  },
  {
   "cell_type": "code",
   "execution_count": 6,
   "metadata": {},
   "outputs": [
    {
     "data": {
      "application/vnd.jupyter.widget-view+json": {
       "model_id": "8cacff1296a042279a82889668b61d71",
       "version_major": 2,
       "version_minor": 0
      },
      "text/plain": [
       "HTML(value='<embed src=data:image/svg+xml;charset=utf-8;base64,PD94bWwgdmVyc2lvbj0nMS4wJyBlbmNvZGluZz0ndXRmLTg…"
      ]
     },
     "metadata": {},
     "output_type": "display_data"
    }
   ],
   "source": [
    "plot_msavi2_1 = chart.Image.series(**{\n",
    "    'imageCollection': S2, \n",
    "    'region': geometry1,\n",
    "    'bands': ['msavi2'],\n",
    "    'reducer': ee.Reducer.mean(),\n",
    "    'scale': 500,\n",
    "    'label_properties':['MSAVI2'],\n",
    "    'title': 'MSAVI2 time series'})\n",
    "\n",
    "plot_msavi2_1.renderWidget(width='75%')    #render the charts"
   ]
  },
  {
   "cell_type": "markdown",
   "metadata": {},
   "source": [
    "Similar plot for the 2nd geometry"
   ]
  },
  {
   "cell_type": "code",
   "execution_count": 7,
   "metadata": {},
   "outputs": [
    {
     "data": {
      "application/vnd.jupyter.widget-view+json": {
       "model_id": "9020ea3cae0545c8b61c1574af6fbd07",
       "version_major": 2,
       "version_minor": 0
      },
      "text/plain": [
       "HTML(value='<embed src=data:image/svg+xml;charset=utf-8;base64,PD94bWwgdmVyc2lvbj0nMS4wJyBlbmNvZGluZz0ndXRmLTg…"
      ]
     },
     "metadata": {},
     "output_type": "display_data"
    }
   ],
   "source": [
    "S2 = ee.ImageCollection(\"COPERNICUS/S2\").filterDate('2020-01-01', '2020-06-30').filterBounds(geometry2)\n",
    "\n",
    "S2 = S2.map(maskcloud1)\n",
    "\n",
    "S2 = S2.map(addmsavi2)\n",
    "\n",
    "plot_msavi2_2 = chart.Image.series(**{\n",
    "    'imageCollection': S2, \n",
    "    'region': geometry2,\n",
    "    'bands': ['msavi2'],\n",
    "    'reducer': ee.Reducer.mean(),\n",
    "    'scale': 500,\n",
    "    'xProperty': 'system:time_start',\n",
    "    'title': 'MSAVI2 time series'})\n",
    "plot_msavi2_2.renderWidget(width='75%')\n"
   ]
  },
  {
   "cell_type": "markdown",
   "metadata": {},
   "source": [
    "Similar plot for the 3rd geometry"
   ]
  },
  {
   "cell_type": "code",
   "execution_count": 8,
   "metadata": {},
   "outputs": [
    {
     "data": {
      "application/vnd.jupyter.widget-view+json": {
       "model_id": "eb9df37d5c864d92ab382cfaa20f7aa7",
       "version_major": 2,
       "version_minor": 0
      },
      "text/plain": [
       "HTML(value='<embed src=data:image/svg+xml;charset=utf-8;base64,PD94bWwgdmVyc2lvbj0nMS4wJyBlbmNvZGluZz0ndXRmLTg…"
      ]
     },
     "metadata": {},
     "output_type": "display_data"
    }
   ],
   "source": [
    "S2 = ee.ImageCollection(\"COPERNICUS/S2\").filterDate('2020-01-01', '2020-06-30').filterBounds(geometry3)\n",
    "\n",
    "S2 = S2.map(maskcloud1)\n",
    "\n",
    "S2 = S2.map(addmsavi2)\n",
    "\n",
    "plot_msavi2_3 = chart.Image.series(**{\n",
    "    'imageCollection': S2, \n",
    "    'region': geometry3,\n",
    "    'bands': ['msavi2'],\n",
    "    'reducer': ee.Reducer.mean(),\n",
    "    'scale': 500,\n",
    "    'xProperty': 'system:time_start',\n",
    "    'title': 'MSAVI2 time series'})\n",
    "plot_msavi2_3.renderWidget(width='75%')"
   ]
  }
 ],
 "metadata": {
  "kernelspec": {
   "display_name": "Python 3",
   "language": "python",
   "name": "python3"
  },
  "language_info": {
   "codemirror_mode": {
    "name": "ipython",
    "version": 3
   },
   "file_extension": ".py",
   "mimetype": "text/x-python",
   "name": "python",
   "nbconvert_exporter": "python",
   "pygments_lexer": "ipython3",
   "version": "3.7.9"
  }
 },
 "nbformat": 4,
 "nbformat_minor": 4
}
